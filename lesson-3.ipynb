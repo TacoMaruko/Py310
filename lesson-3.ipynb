{
 "cells": [
  {
   "cell_type": "code",
   "execution_count": 1,
   "metadata": {},
   "outputs": [
    {
     "name": "stdout",
     "output_type": "stream",
     "text": [
      "Hello Py-1105\n"
     ]
    }
   ],
   "source": [
    "print(\"Hello Py-1105\")"
   ]
  },
  {
   "cell_type": "code",
   "execution_count": 2,
   "metadata": {},
   "outputs": [
    {
     "data": {
      "text/plain": [
       "False"
      ]
     },
     "execution_count": 2,
     "metadata": {},
     "output_type": "execute_result"
    }
   ],
   "source": [
    "x = 7   #指定運算子\n",
    "x == 5  #比較運算子"
   ]
  },
  {
   "cell_type": "code",
   "execution_count": 3,
   "metadata": {},
   "outputs": [
    {
     "data": {
      "text/plain": [
       "True"
      ]
     },
     "execution_count": 3,
     "metadata": {},
     "output_type": "execute_result"
    }
   ],
   "source": [
    "x == 7  #比較"
   ]
  },
  {
   "cell_type": "code",
   "execution_count": 7,
   "metadata": {},
   "outputs": [
    {
     "name": "stdout",
     "output_type": "stream",
     "text": [
      "國文 65 及格\n"
     ]
    }
   ],
   "source": [
    "ch_str = input(\"國文：\")\n",
    "ch_int = int(ch_str)\n",
    "if ch_int >= 60:\n",
    "    print(f\"國文 {ch_int} 及格\")\n",
    "else:\n",
    "    print(f\"{ch_int} 不及格\")"
   ]
  },
  {
   "cell_type": "code",
   "execution_count": 12,
   "metadata": {},
   "outputs": [
    {
     "name": "stdout",
     "output_type": "stream",
     "text": [
      "國文 56 分，丁\n"
     ]
    }
   ],
   "source": [
    "#多向判斷式\n",
    "ch = int(input(\"國文：\"))\n",
    "if ch >= 90:\n",
    "    print(f\"國文 {ch} 分，優\")\n",
    "elif ch >= 80:\n",
    "    print(f\"國文 {ch} 分，甲\")\n",
    "elif ch >= 70:\n",
    "    print(f\"國文 {ch} 分，乙\")\n",
    "elif ch >= 60:\n",
    "    print(f\"國文 {ch} 分，丙\")\n",
    "else:\n",
    "    print(f\"國文 {ch} 分，丁\")"
   ]
  },
  {
   "cell_type": "code",
   "execution_count": 13,
   "metadata": {},
   "outputs": [
    {
     "data": {
      "text/plain": [
       "''"
      ]
     },
     "execution_count": 13,
     "metadata": {},
     "output_type": "execute_result"
    }
   ],
   "source": [
    "'''\n",
    "作業：消費金額級別\n",
    "10萬 8折\n",
    "5萬 85折\n",
    "3萬 9折\n",
    "1萬 95折\n",
    "'''\n"
   ]
  },
  {
   "cell_type": "code",
   "execution_count": 17,
   "metadata": {},
   "outputs": [
    {
     "name": "stdout",
     "output_type": "stream",
     "text": [
      "獎金：0 元\n"
     ]
    }
   ],
   "source": [
    "#巢狀判斷\n",
    "ch = int(input(\"國文：\"))\n",
    "en = int(input(\"英文：\"))\n",
    "bonus = 0\n",
    "\n",
    "if ch == 100:\n",
    "    if en == 100:\n",
    "        bonus = 1000\n",
    "    else:\n",
    "        bonus =500\n",
    "else:\n",
    "    if en == 100:\n",
    "        bonus = 500\n",
    "    else:\n",
    "        bonus = 0\n",
    "\n",
    "print(f\"獎金：{bonus} 元\")"
   ]
  }
 ],
 "metadata": {
  "kernelspec": {
   "display_name": "Python 3.10.8 ('PyVenv-2')",
   "language": "python",
   "name": "python3"
  },
  "language_info": {
   "codemirror_mode": {
    "name": "ipython",
    "version": 3
   },
   "file_extension": ".py",
   "mimetype": "text/x-python",
   "name": "python",
   "nbconvert_exporter": "python",
   "pygments_lexer": "ipython3",
   "version": "3.10.8"
  },
  "orig_nbformat": 4,
  "vscode": {
   "interpreter": {
    "hash": "91dd831eb155b924001862c976d81215cfe2791fd3f0befc3c5d70803de0ce51"
   }
  }
 },
 "nbformat": 4,
 "nbformat_minor": 2
}
