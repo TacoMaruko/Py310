{
 "cells": [
  {
   "cell_type": "code",
   "execution_count": 4,
   "metadata": {},
   "outputs": [
    {
     "name": "stdout",
     "output_type": "stream",
     "text": [
      "獎金：0 元\n"
     ]
    }
   ],
   "source": [
    "#使用 And 與 Or 邏輯運算子\n",
    "ch = int(input(\"國文：\"))\n",
    "en = int(input(\"英文：\"))\n",
    "bonus = 0\n",
    "\n",
    "if ch == 100 and en == 100:\n",
    "    bonus = 1000\n",
    "elif ch == 100 or en == 100:\n",
    "    bonus = 500\n",
    "else:\n",
    "    bonus = 0\n",
    "\n",
    "print(f\"獎金：{bonus} 元\")\n"
   ]
  },
  {
   "cell_type": "code",
   "execution_count": 13,
   "metadata": {},
   "outputs": [
    {
     "name": "stdout",
     "output_type": "stream",
     "text": [
      "BMI=23.53\n",
      "正常！\n"
     ]
    }
   ],
   "source": [
    "#計算BMI\n",
    "bh = eval(input(\"身高：\"))\n",
    "bw = eval(input(\"體重：\"))\n",
    "\n",
    "bmi = bw / ((bh / 100) ** 2)\n",
    "\n",
    "print(f\"BMI={bmi:.2f}\") #指定小數 2 位\n",
    "\n",
    "if bmi >= 35:\n",
    "    print(\"過胖了！\")\n",
    "elif bmi >= 30:\n",
    "    print(\"中度胖\")\n",
    "elif bmi >= 27:\n",
    "    print(\"輕度胖\")\n",
    "elif bmi >= 24:\n",
    "    print(\"微胖\")\n",
    "else:\n",
    "    print(\"正常！\")"
   ]
  }
 ],
 "metadata": {
  "kernelspec": {
   "display_name": "Python 3.10.8 64-bit",
   "language": "python",
   "name": "python3"
  },
  "language_info": {
   "codemirror_mode": {
    "name": "ipython",
    "version": 3
   },
   "file_extension": ".py",
   "mimetype": "text/x-python",
   "name": "python",
   "nbconvert_exporter": "python",
   "pygments_lexer": "ipython3",
   "version": "3.10.8"
  },
  "orig_nbformat": 4,
  "vscode": {
   "interpreter": {
    "hash": "369f2c481f4da34e4445cda3fffd2e751bd1c4d706f27375911949ba6bb62e1c"
   }
  }
 },
 "nbformat": 4,
 "nbformat_minor": 2
}
