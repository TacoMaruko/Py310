{
 "cells": [
  {
   "cell_type": "code",
   "execution_count": 2,
   "metadata": {},
   "outputs": [
    {
     "name": "stdout",
     "output_type": "stream",
     "text": [
      "Taco\n"
     ]
    }
   ],
   "source": [
    "#輸入指定給變數，再列印出變數內容\n",
    "Uname = input(\"請輸入姓名：\")\n",
    "print(Uname)"
   ]
  },
  {
   "cell_type": "code",
   "execution_count": 4,
   "metadata": {},
   "outputs": [
    {
     "name": "stdout",
     "output_type": "stream",
     "text": [
      "你的姓名：Taco\n"
     ]
    }
   ],
   "source": [
    "print(\"你的姓名：\" + Uname)"
   ]
  },
  {
   "cell_type": "code",
   "execution_count": 5,
   "metadata": {},
   "outputs": [
    {
     "name": "stdout",
     "output_type": "stream",
     "text": [
      "你的姓名是：Taco\n"
     ]
    }
   ],
   "source": [
    "#結果與上個相同；使用的是「字串插補」功能\n",
    "print(f\"你的姓名是：{Uname}\")"
   ]
  },
  {
   "cell_type": "code",
   "execution_count": 8,
   "metadata": {},
   "outputs": [
    {
     "name": "stdout",
     "output_type": "stream",
     "text": [
      "你的姓名：Taco\n",
      "國文：76\n",
      "英文：72\n",
      "總分：148,平均：74.0\n"
     ]
    }
   ],
   "source": [
    "#多個變數 與 字串插補 整合應用\n",
    "chi = 76\n",
    "eng = 72\n",
    "total = chi + eng\n",
    "aver = total / 2\n",
    "\n",
    "print(f\"你的姓名：{Uname}\")\n",
    "print(f\"國文：{chi}\")\n",
    "print(f\"英文：{eng}\")\n",
    "print(f\"總分：{total},平均：{aver}\")"
   ]
  },
  {
   "cell_type": "code",
   "execution_count": 9,
   "metadata": {},
   "outputs": [
    {
     "name": "stdout",
     "output_type": "stream",
     "text": [
      "國文：80\n",
      "英文：95\n",
      "總分：175\n",
      "平均：87.5\n"
     ]
    }
   ],
   "source": [
    "#使用input，多個變數 與 字串插補 整合應用\n",
    "ch = int(input(\"國文分數：\"))\n",
    "en = int(input(\"英文分數：\"))\n",
    "tot = ch + en\n",
    "ave = tot / 2\n",
    "\n",
    "print(f\"國文：{ch}\")\n",
    "print(f\"英文：{en}\")\n",
    "print(f\"總分：{tot}\")\n",
    "print(f\"平均：{ave}\")"
   ]
  },
  {
   "cell_type": "code",
   "execution_count": 11,
   "metadata": {},
   "outputs": [
    {
     "name": "stdout",
     "output_type": "stream",
     "text": [
      "國文：87.5\n",
      "英文：96.3\n",
      "總分：183.8\n",
      "平均：91.9\n"
     ]
    }
   ],
   "source": [
    "#eval 能把字串變成「運算式」\n",
    "ch = eval(input(\"國文分數：\"))\n",
    "en = eval(input(\"英文分數：\"))\n",
    "tot = ch + en\n",
    "ave = tot / 2\n",
    "\n",
    "print(f\"國文：{ch}\")\n",
    "print(f\"英文：{en}\")\n",
    "print(f\"總分：{tot}\")\n",
    "print(f\"平均：{ave}\")"
   ]
  },
  {
   "cell_type": "code",
   "execution_count": 14,
   "metadata": {},
   "outputs": [
    {
     "data": {
      "text/plain": [
       "25"
      ]
     },
     "execution_count": 14,
     "metadata": {},
     "output_type": "execute_result"
    }
   ],
   "source": [
    "(-5) ** 2"
   ]
  },
  {
   "cell_type": "code",
   "execution_count": 15,
   "metadata": {},
   "outputs": [
    {
     "name": "stdout",
     "output_type": "stream",
     "text": [
      "計算梯形面積，請輸相關數字\n",
      "梯形面積：250.0\n"
     ]
    }
   ],
   "source": [
    "#梯形面積，上底+下底＊高／2\n",
    "print(\"計算梯形面積，請輸相關數字\")\n",
    "tt = eval(input(\"上底：\"))\n",
    "bb = eval(input(\"下底：\"))\n",
    "hh = eval(input(\"高度：\"))\n",
    "\n",
    "print(f\"梯形面積：{(tt + bb) * hh / 2}\")"
   ]
  },
  {
   "cell_type": "code",
   "execution_count": 21,
   "metadata": {},
   "outputs": [
    {
     "name": "stdout",
     "output_type": "stream",
     "text": [
      "46\n",
      "45\n",
      "44\n"
     ]
    }
   ],
   "source": [
    "import math\n",
    "\n",
    "#無條件「進位」\n",
    "print(math.ceil(45.4))\n",
    "\n",
    "#無條件「捨去」\n",
    "print(math.floor(45.8))\n",
    "\n",
    "#四捨五入\n",
    "print(round(43.6))\n"
   ]
  }
 ],
 "metadata": {
  "kernelspec": {
   "display_name": "Python 3.10.8 64-bit",
   "language": "python",
   "name": "python3"
  },
  "language_info": {
   "codemirror_mode": {
    "name": "ipython",
    "version": 3
   },
   "file_extension": ".py",
   "mimetype": "text/x-python",
   "name": "python",
   "nbconvert_exporter": "python",
   "pygments_lexer": "ipython3",
   "version": "3.10.8"
  },
  "orig_nbformat": 4,
  "vscode": {
   "interpreter": {
    "hash": "369f2c481f4da34e4445cda3fffd2e751bd1c4d706f27375911949ba6bb62e1c"
   }
  }
 },
 "nbformat": 4,
 "nbformat_minor": 2
}
