{
 "cells": [
  {
   "cell_type": "code",
   "execution_count": 5,
   "metadata": {},
   "outputs": [
    {
     "data": {
      "text/plain": [
       "0.876179085898055"
      ]
     },
     "execution_count": 5,
     "metadata": {},
     "output_type": "execute_result"
    }
   ],
   "source": [
    "import random\n",
    "random.random()"
   ]
  },
  {
   "cell_type": "code",
   "execution_count": 6,
   "metadata": {},
   "outputs": [
    {
     "data": {
      "text/plain": [
       "8.752801316730444"
      ]
     },
     "execution_count": 6,
     "metadata": {},
     "output_type": "execute_result"
    }
   ],
   "source": [
    "random.uniform(1, 10)"
   ]
  },
  {
   "cell_type": "code",
   "execution_count": 21,
   "metadata": {},
   "outputs": [
    {
     "data": {
      "text/plain": [
       "50"
      ]
     },
     "execution_count": 21,
     "metadata": {},
     "output_type": "execute_result"
    }
   ],
   "source": [
    "rand_value = random.randint(1, 100)\n",
    "rand_value"
   ]
  },
  {
   "cell_type": "code",
   "execution_count": 29,
   "metadata": {},
   "outputs": [
    {
     "name": "stdout",
     "output_type": "stream",
     "text": [
      "====== 猜數字 1 ~ 10 ======\n",
      "比 1 再大一些\n",
      "比 9 再小一些\n",
      "比 5 再大一些\n",
      "比 7 再小一些\n",
      "比 3 再大一些\n",
      "比 4 再大一些\n",
      "答對了,是 6！\n",
      "你猜了 7 次\n",
      "遊戲結束！\n"
     ]
    }
   ],
   "source": [
    "# 簡易版「猜數字」\n",
    "mini = 1\n",
    "maxx = 10\n",
    "count = 0\n",
    "rand_value = random.randint(mini, maxx)\n",
    "print(f\"====== 猜數字 {mini} ~ {maxx} ======\")\n",
    "\n",
    "while True:\n",
    "    count += 1\n",
    "    keyin = int(input(f\"輸入一個數字{mini}~{maxx}：\"))\n",
    "    if keyin >= mini and keyin <= maxx :\n",
    "        if(keyin == rand_value):\n",
    "            print(f\"答對了,是 {rand_value}！\")\n",
    "            print(f\"你猜了 {count} 次\")\n",
    "            break\n",
    "\n",
    "        elif keyin > rand_value :\n",
    "            print(f\"比 {keyin} 再小一些，第 {count} 次\")\n",
    "\n",
    "        elif keyin < rand_value :\n",
    "            print(f\"比 {keyin} 再大一些,第 {count} 次\")\n",
    "\n",
    "        else:\n",
    "            print(f\"{keyin} 不對，再猜～\")\n",
    "    else:\n",
    "        print(\"超出遊戲範圍！\")\n",
    "\n",
    "print(\"遊戲結束！\")"
   ]
  }
 ],
 "metadata": {
  "kernelspec": {
   "display_name": "Python 3.10.8 ('vENV01')",
   "language": "python",
   "name": "python3"
  },
  "language_info": {
   "codemirror_mode": {
    "name": "ipython",
    "version": 3
   },
   "file_extension": ".py",
   "mimetype": "text/x-python",
   "name": "python",
   "nbconvert_exporter": "python",
   "pygments_lexer": "ipython3",
   "version": "3.10.8"
  },
  "orig_nbformat": 4,
  "vscode": {
   "interpreter": {
    "hash": "1baecfddc03881749e05799d34b063a9afa4bae2cd97273ac3aab74bf9b702fa"
   }
  }
 },
 "nbformat": 4,
 "nbformat_minor": 2
}
