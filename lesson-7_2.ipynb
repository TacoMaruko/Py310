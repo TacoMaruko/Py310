{
 "cells": [
  {
   "cell_type": "code",
   "execution_count": 2,
   "metadata": {},
   "outputs": [
    {
     "name": "stdout",
     "output_type": "stream",
     "text": [
      "Hello PyVenv!\n"
     ]
    }
   ],
   "source": [
    "print(\"Hello PyVenv!\")"
   ]
  },
  {
   "cell_type": "code",
   "execution_count": 1,
   "metadata": {},
   "outputs": [],
   "source": [
    "# 若引數有「預設值」，該引數的順序要排在最後\n",
    "def menu(wine, entree, dessert=\"奶昔\"):\n",
    "    print(f\"wine值：{wine}\")\n",
    "    print(f\"entree值：{entree}\")\n",
    "    print(f\"dessert值：{dessert}\")\n"
   ]
  },
  {
   "cell_type": "code",
   "execution_count": 2,
   "metadata": {},
   "outputs": [
    {
     "name": "stdout",
     "output_type": "stream",
     "text": [
      "wine值：紅酒\n",
      "entree值：雞排\n",
      "dessert值：奶昔\n"
     ]
    }
   ],
   "source": [
    "# 引數位置的呼叫（引入值）\n",
    "menu(\"紅酒\", \"雞排\")"
   ]
  },
  {
   "cell_type": "code",
   "execution_count": 3,
   "metadata": {},
   "outputs": [
    {
     "name": "stdout",
     "output_type": "stream",
     "text": [
      "wine值：紅酒-1\n",
      "entree值：雞排-1\n",
      "dessert值：蛋糕-1\n"
     ]
    }
   ],
   "source": [
    "# 引數名稱的呼叫（指定值）\n",
    "menu(\"紅酒-1\", \"雞排-1\", dessert=\"蛋糕-1\")"
   ]
  }
 ],
 "metadata": {
  "kernelspec": {
   "display_name": "Python 3.10.8 ('vENV01')",
   "language": "python",
   "name": "python3"
  },
  "language_info": {
   "codemirror_mode": {
    "name": "ipython",
    "version": 3
   },
   "file_extension": ".py",
   "mimetype": "text/x-python",
   "name": "python",
   "nbconvert_exporter": "python",
   "pygments_lexer": "ipython3",
   "version": "3.10.8"
  },
  "orig_nbformat": 4,
  "vscode": {
   "interpreter": {
    "hash": "1baecfddc03881749e05799d34b063a9afa4bae2cd97273ac3aab74bf9b702fa"
   }
  }
 },
 "nbformat": 4,
 "nbformat_minor": 2
}
