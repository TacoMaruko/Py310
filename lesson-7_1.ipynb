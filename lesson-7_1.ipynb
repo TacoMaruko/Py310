{
 "cells": [
  {
   "cell_type": "code",
   "execution_count": 2,
   "metadata": {},
   "outputs": [
    {
     "name": "stdout",
     "output_type": "stream",
     "text": [
      "Hello PyVenv!\n"
     ]
    }
   ],
   "source": [
    "print(\"Hello PyVenv!\")"
   ]
  },
  {
   "cell_type": "code",
   "execution_count": 3,
   "metadata": {},
   "outputs": [],
   "source": [
    "def menu(wine, entree, dessert):\n",
    "    print(f\"wine值：{wine}\")\n",
    "    print(f\"entree值：{entree}\")\n",
    "    print(f\"dessert值：{dessert}\")\n"
   ]
  },
  {
   "cell_type": "code",
   "execution_count": 4,
   "metadata": {},
   "outputs": [
    {
     "name": "stdout",
     "output_type": "stream",
     "text": [
      "wine值：白酒\n",
      "entree值：牛排\n",
      "dessert值：蛋糕\n"
     ]
    }
   ],
   "source": [
    "# 引數位置的呼叫（引入值），「必須」依引數的順序\n",
    "menu(\"白酒\", \"牛排\", \"蛋糕\")"
   ]
  },
  {
   "cell_type": "code",
   "execution_count": 5,
   "metadata": {},
   "outputs": [
    {
     "name": "stdout",
     "output_type": "stream",
     "text": [
      "wine值：白酒-1\n",
      "entree值：牛排-1\n",
      "dessert值：蛋糕-1\n"
     ]
    }
   ],
   "source": [
    "# 引數位置的呼叫（指定值），「可以不」依引數的順序\n",
    "menu(wine=\"白酒-1\", dessert=\"蛋糕-1\", entree=\"牛排-1\")"
   ]
  },
  {
   "cell_type": "code",
   "execution_count": 7,
   "metadata": {},
   "outputs": [
    {
     "name": "stdout",
     "output_type": "stream",
     "text": [
      "wine值：紅酒-2\n",
      "entree值：豬排-2\n",
      "dessert值：蛋糕-2\n"
     ]
    }
   ],
   "source": [
    "# 混合呼叫，前面用「引數位置順序」；後面用「引數名稱」不依順序\n",
    "# 前面使用「引數名稱」，後面就都要統一使用「引數名稱」來呼叫\n",
    "menu(\"紅酒-2\", dessert=\"蛋糕-2\", entree=\"豬排-2\")"
   ]
  }
 ],
 "metadata": {
  "kernelspec": {
   "display_name": "Python 3.10.8 ('vENV01')",
   "language": "python",
   "name": "python3"
  },
  "language_info": {
   "codemirror_mode": {
    "name": "ipython",
    "version": 3
   },
   "file_extension": ".py",
   "mimetype": "text/x-python",
   "name": "python",
   "nbconvert_exporter": "python",
   "pygments_lexer": "ipython3",
   "version": "3.10.8"
  },
  "orig_nbformat": 4,
  "vscode": {
   "interpreter": {
    "hash": "1baecfddc03881749e05799d34b063a9afa4bae2cd97273ac3aab74bf9b702fa"
   }
  }
 },
 "nbformat": 4,
 "nbformat_minor": 2
}
